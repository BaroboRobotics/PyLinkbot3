{
 "cells": [
  {
   "cell_type": "markdown",
   "metadata": {},
   "source": [
    "# Getting Started\n",
    "\n",
    "Welcome to the Linkbot Python tutorials! These tutorials will help you get up and running using Python3 to control your Barobo Linkbot. The Barobo Linkbot is a small modular educational robot used throughout hundreds of classrooms to teach math, science, and programming. You can read more about the Linkbot at http://www.barobo.com . \n",
    "\n",
    "This guide assumes you have no experience writing computer programs. The strategy of the guide is to focus on how to make your robots do interesting things while teaching the computer programming fundamentals along the way. That being said, knowledge of basic computer operation, such as opening and saving files and typing, will be greatly beneficial.\n",
    "\n",
    "# Installing the Software\n",
    "\n",
    "In order to control your Linkbots with Python, you will first need to install some software. First of all, you will need a working version of Python 3.5 or above. We recommend the [Anaconda](https://www.continuum.io/downloads) distribution of Python. Make sure you select the Python 3.5 version and not the 2.7 version when installing.\n",
    "\n",
    "Once you have installed Anaconda on your machine, run the following command in an Anaconda console to install the Linkbot Python package:\n",
    "\n",
    "    sudo pip install pylinkbot>=3.0.0\n",
    "    \n",
    "On some systems, you may have to replace ``pip`` with ``pip3``. \n",
    "\n",
    "Once you have installed both Anaconda and the PyLinkbot package, you should be ready to rock! \n",
    "\n",
    "# Running the Code\n",
    "\n",
    "Anaconda comes with with a Python editor called Spyder3 which can be used for the rest of this tutorial. When you are presented with example code, you may copy and paste the code into your Spyder3 editor and run it by cliking on the \"Run\" icon at the top of the editor, which looks like this: <img src='img/Spyder_run_file.png' width=\"32\" align=\"middle\">\n",
    "\n",
    "Here is a small sample of Linkbot code:\n"
   ]
  },
  {
   "cell_type": "code",
   "execution_count": 3,
   "metadata": {
    "collapsed": true
   },
   "outputs": [],
   "source": [
    "import linkbot\n",
    "# My Linkbot's ID is 'DGKR'\n",
    "l = linkbot.Linkbot('DGKR')\n",
    "l.motors.move([90, 90, 90])"
   ]
  },
  {
   "cell_type": "markdown",
   "metadata": {},
   "source": [
    "Most of the time, lessons will include many snippets of code like the one above. Many times, code presented to you in these snippets depend on previously presented code. For instance, consider the following snippet:"
   ]
  },
  {
   "cell_type": "code",
   "execution_count": 4,
   "metadata": {
    "collapsed": false
   },
   "outputs": [
    {
     "name": "stdout",
     "output_type": "stream",
     "text": [
      "(182.07343187491875, 0.0, 180.34324933550616, 8246704)\n"
     ]
    }
   ],
   "source": [
    "print(l.motors.angles())"
   ]
  },
  {
   "cell_type": "markdown",
   "metadata": {},
   "source": [
    "If you copy and paste only the second snippet into Spyder3 and try to run it, you will encounter something like the following error:\n",
    "\n",
    "    Traceback (most recent call last):\n",
    "    File \"<stdin>\", line 1, in <module>\n",
    "    NameError: name 'l' is not defined\n",
    "\n",
    "This is because the second code snippet actually depends on the first one to be in the same program. Thus, if you want to run the second code snippet, make sure you copy all code snippets presented so far into your Spyder editor so that your code looks like this:\n",
    "\n",
    "    import linkbot\n",
    "    # My Linkbot's ID is 'DGKR'\n",
    "    l = linkbot.Linkbot('DGKR')\n",
    "    l.motors.move([90, 90, 90])\n",
    "\n",
    "    print(l.motors.angles())\n",
    "    \n",
    "Now when you run your program, you should see more correct results."
   ]
  }
 ],
 "metadata": {
  "kernelspec": {
   "display_name": "Python 3",
   "language": "python",
   "name": "python3"
  },
  "language_info": {
   "codemirror_mode": {
    "name": "ipython",
    "version": 3
   },
   "file_extension": ".py",
   "mimetype": "text/x-python",
   "name": "python",
   "nbconvert_exporter": "python",
   "pygments_lexer": "ipython3",
   "version": "3.5.1"
  }
 },
 "nbformat": 4,
 "nbformat_minor": 0
}
