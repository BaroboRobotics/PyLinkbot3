{
 "cells": [
  {
   "cell_type": "markdown",
   "metadata": {},
   "source": [
    "# Simple Robot Movement\n",
    "This chapter will introduce some basic concepts regarding computer programming and robot movement. By the end of this chapter, you should be able to answer these questions:\n",
    "\n",
    "* What is a computer program?\n",
    "* How do I connect to a robot?\n",
    "* How do I make a robot move its motors?\n",
    "\n",
    "## What Is a Computer Program?\n",
    "Simply put, a computer program is a set of instructions that instruct a computer to perform a series of tasks. In Python, we can refer to these programs as \"scripts\". You have probably heard the word \"script\" before, but perhaps in the context of an actor reading a script for a play. Indeed, movie scripts are similar to computer programs: They instruct the actor to perform a specific set of tasks, in the right order, to accomplish some goal. The actor, like a computer, is responsible for reading each line of the script, in order, and performing each task.\n",
    "\n",
    "The way which computers run these scripts is very similar. The computer starts at the top of the file and executes the instructions on each line, marching down the script line by line. For our first simple programs, that's all a computer will do. Later on, we will show you how to make the computer repeat certain lines in the script, or perhaps jump to a totally different part of the script depending on some conditions.\n",
    "\n",
    "On a computer, a script is typically saved in a text file with a special filename extension, rather than printed onto paper like an actor's script. If the file is a Python script, it typically ends with the extension ``.py``. For instance, I might save my first program into a file called ``my_first_program.py``. Note that when you save your programs, try to avoid special characters in the filename, such as asterisks ``*``, parentheses ``()``, and spaces. \n",
    "\n",
    "## Your First Program\n",
    "Go ahead and open up your Python editor and try running this line of code:"
   ]
  },
  {
   "cell_type": "code",
   "execution_count": 1,
   "metadata": {
    "collapsed": false
   },
   "outputs": [
    {
     "name": "stdout",
     "output_type": "stream",
     "text": [
      "Hello, world!\n"
     ]
    }
   ],
   "source": [
    "print('Hello, world!')"
   ]
  },
  {
   "cell_type": "markdown",
   "metadata": {},
   "source": [
    "Congratulations! You just wrote and ran a complete computer program :thumbsup: It doesn't seem like much, but you just wrote a program to give the computer a single instruction: print the words \"Hello, world!\" onto the screen.\n",
    "\n",
    "When you type in your programs into your editor, pay special attention to every character and symbol that you type. While computers can be very fast and can seem very smart, they are actually somewhat dumb. A single spelling error or missing symbol will send the computer into conniptions. \n",
    "\n",
    "Now, lets try something much more interesting. Lets move a Linkbot's motor. First, we have to tell Python that we will be controlling a Linkbot in our program. We do this by \"importing\" a \"package\" called ``linkbot``. "
   ]
  },
  {
   "cell_type": "code",
   "execution_count": 2,
   "metadata": {
    "collapsed": true
   },
   "outputs": [],
   "source": [
    "import linkbot"
   ]
  },
  {
   "cell_type": "markdown",
   "metadata": {},
   "source": [
    "After we import a package, we can use functions and elements in the package. We access elements inside the package with a dot (period) symbol.\n",
    "\n",
    "Next, we need to connect to our Linkbot. My Linkbot's serial ID is \"DGKR\". When you run the next line of code, make sure you change \"DGKR\" to match the ID of your Linkbot instead of mine."
   ]
  },
  {
   "cell_type": "code",
   "execution_count": 3,
   "metadata": {
    "collapsed": true
   },
   "outputs": [],
   "source": [
    "my_linkbot = linkbot.Linkbot('DGKR')"
   ]
  },
  {
   "cell_type": "markdown",
   "metadata": {},
   "source": [
    "Notice that on the right side of the equal sign, the word \"linkbot\" is used twice: Once lowercase and once uppercase. The lowercase `linkbot` is referring to the package we imported earlier. The upper-case `Linkbot` is the name of special function inside `linkbot` that is used to connect to a Linkbot. In English, this line of code says \"Inside of the package `linkbot`, connect to a physical robot named DGKR with the function `Linkbot` and store the result in `my_linkbot`.\n",
    "\n",
    "Finally, the next line of code moves the Linkbot's first motor 90 degrees."
   ]
  },
  {
   "cell_type": "code",
   "execution_count": 4,
   "metadata": {
    "collapsed": true
   },
   "outputs": [],
   "source": [
    "my_linkbot.motors[0].move(90)"
   ]
  },
  {
   "cell_type": "markdown",
   "metadata": {},
   "source": [
    "When we created our Linkbot connection, we stored that object into a \"variable\" called `my_linkbot`. Similar to how Python packages can have items inside them that you can access with the \"dot operator\", linkbot objects also have items that you can access. One of these objects is called `motors`. Since a Linkbot has 3 motor locations, you can specify which motor you want to access inside square brackets \"[]\". In computer science, items are always indexed starting from zero. This means that:\n",
    "\n",
    "    my_linkbot.motors[0]\n",
    "    \n",
    "refers to the first motor (Motor 1),\n",
    "\n",
    "    my_linkbot.motors[1]\n",
    "    \n",
    "refers to the second motor (Motor 2), and\n",
    "\n",
    "    my_linkbot.motors[2]\n",
    "    \n",
    "refers to the third motor (Motor 3). If you don't want to specify the motor with a word instead of a number, you can also do something like:\n",
    "\n",
    "    my_linkbot.motors['one'].move(90)\n",
    "    \n",
    "Note that this is a special feature of the Linkbot code and most Python objects will not allow you to do this.\n",
    "\n",
    "When you run the above snippets of code, your Linkbot should do something similar as shown in the following video.\n",
    "\n",
    "[![Linkbot Movement](https://img.youtube.com/vi/N_Kl-AZqdj0/0.jpg)](https://www.youtube.com/watch?v=N_Kl-AZqdj0)"
   ]
  },
  {
   "cell_type": "markdown",
   "metadata": {},
   "source": [
    "Congratulations! You just made your Linkbot move a little!"
   ]
  }
 ],
 "metadata": {
  "kernelspec": {
   "display_name": "Python 3",
   "language": "python",
   "name": "python3"
  },
  "language_info": {
   "codemirror_mode": {
    "name": "ipython",
    "version": 3
   },
   "file_extension": ".py",
   "mimetype": "text/x-python",
   "name": "python",
   "nbconvert_exporter": "python",
   "pygments_lexer": "ipython3",
   "version": "3.5.1"
  }
 },
 "nbformat": 4,
 "nbformat_minor": 0
}
